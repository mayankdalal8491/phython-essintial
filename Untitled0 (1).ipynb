{
  "nbformat": 4,
  "nbformat_minor": 0,
  "metadata": {
    "colab": {
      "name": "Untitled0.ipynb",
      "provenance": [],
      "collapsed_sections": []
    },
    "kernelspec": {
      "name": "python3",
      "display_name": "Python 3"
    }
  },
  "cells": [
    {
      "cell_type": "code",
      "metadata": {
        "colab": {
          "base_uri": "https://localhost:8080/"
        },
        "id": "C1X3cC55W6bR",
        "outputId": "80b90aa6-4723-452a-b129-6fdfd2311604"
      },
      "source": [
        "lst=[1,2,3,4,5]\r\n",
        "lst.append(6)\r\n",
        "print(lst)"
      ],
      "execution_count": null,
      "outputs": [
        {
          "output_type": "stream",
          "text": [
            "[1, 2, 3, 4, 5, 6]\n"
          ],
          "name": "stdout"
        }
      ]
    },
    {
      "cell_type": "code",
      "metadata": {
        "colab": {
          "base_uri": "https://localhost:8080/"
        },
        "id": "Oc4_FgnSXsvm",
        "outputId": "24041e00-8502-4b66-a40d-b79060470423"
      },
      "source": [
        "lst=[1,2,3,4,5]\r\n",
        "lst.pop()\r\n",
        "print(lst)\r\n",
        "\r\n"
      ],
      "execution_count": null,
      "outputs": [
        {
          "output_type": "stream",
          "text": [
            "[1, 2, 3, 4]\n"
          ],
          "name": "stdout"
        }
      ]
    },
    {
      "cell_type": "code",
      "metadata": {
        "colab": {
          "base_uri": "https://localhost:8080/"
        },
        "id": "E0fz_WSPZJVm",
        "outputId": "545b3952-2cfc-4c34-f6a6-7ecdcfb26bf3"
      },
      "source": [
        "lst=[1,2,3,4,5]\r\n",
        "lst.pop(-3)\r\n",
        "print(lst)"
      ],
      "execution_count": null,
      "outputs": [
        {
          "output_type": "stream",
          "text": [
            "[1, 2, 4, 5]\n"
          ],
          "name": "stdout"
        }
      ]
    },
    {
      "cell_type": "code",
      "metadata": {
        "colab": {
          "base_uri": "https://localhost:8080/"
        },
        "id": "WW-TfpSKZWpy",
        "outputId": "84fdace8-a7c2-48f4-b260-279c4f3ee047"
      },
      "source": [
        "lst=[1,2,3,4,5]\r\n",
        "lst.remove(5)\r\n",
        "print(lst)"
      ],
      "execution_count": null,
      "outputs": [
        {
          "output_type": "stream",
          "text": [
            "[1, 2, 3, 4]\n"
          ],
          "name": "stdout"
        }
      ]
    },
    {
      "cell_type": "code",
      "metadata": {
        "colab": {
          "base_uri": "https://localhost:8080/"
        },
        "id": "xYpWjVY4Zja8",
        "outputId": "fa13eae5-4c30-4384-afa4-7acc0d39260a"
      },
      "source": [
        "lst=[1,2,3,4,5]\r\n",
        "lst.insert(2,10)\r\n",
        "print(lst)"
      ],
      "execution_count": null,
      "outputs": [
        {
          "output_type": "stream",
          "text": [
            "[1, 2, 10, 3, 4, 5]\n"
          ],
          "name": "stdout"
        }
      ]
    },
    {
      "cell_type": "code",
      "metadata": {
        "colab": {
          "base_uri": "https://localhost:8080/"
        },
        "id": "dpJB9iHHZ-LC",
        "outputId": "7e8df167-886a-4958-e5c9-c5e9089ed0ab"
      },
      "source": [
        "lst=[1,2,3,4,5]\r\n",
        "lst.reverse()\r\n",
        "print(lst)\r\n"
      ],
      "execution_count": null,
      "outputs": [
        {
          "output_type": "stream",
          "text": [
            "[5, 4, 3, 2, 1]\n"
          ],
          "name": "stdout"
        }
      ]
    },
    {
      "cell_type": "code",
      "metadata": {
        "colab": {
          "base_uri": "https://localhost:8080/",
          "height": 35
        },
        "id": "SAqDuW0neFYd",
        "outputId": "b2030b0a-ec4d-42d1-c232-ff9cd6b67d23"
      },
      "source": [
        "dict={\"name\":\"Mayank\",\"age\":23,\"location\":\"Pune\"}\r\n",
        "dict.get(\"name\")"
      ],
      "execution_count": null,
      "outputs": [
        {
          "output_type": "execute_result",
          "data": {
            "application/vnd.google.colaboratory.intrinsic+json": {
              "type": "string"
            },
            "text/plain": [
              "'Mayank'"
            ]
          },
          "metadata": {
            "tags": []
          },
          "execution_count": 43
        }
      ]
    },
    {
      "cell_type": "code",
      "metadata": {
        "colab": {
          "base_uri": "https://localhost:8080/"
        },
        "id": "dbEzoLXSfQzZ",
        "outputId": "67dafcf6-fb67-4a43-ade9-5ed5635f8745"
      },
      "source": [
        "dict={\"name\":\"Mayank\",\"age\":23,\"location\":\"Pune\"}\r\n",
        "dict.keys()"
      ],
      "execution_count": null,
      "outputs": [
        {
          "output_type": "execute_result",
          "data": {
            "text/plain": [
              "dict_keys(['name', 'age', 'location'])"
            ]
          },
          "metadata": {
            "tags": []
          },
          "execution_count": 44
        }
      ]
    },
    {
      "cell_type": "code",
      "metadata": {
        "colab": {
          "base_uri": "https://localhost:8080/"
        },
        "id": "WNqMfPbqfdEa",
        "outputId": "6aa78c3a-bcf9-4a6d-c276-a9a05ed870f2"
      },
      "source": [
        "dict={\"name\":\"Mayank\",\"age\":23,\"location\":\"Pune\"}\r\n",
        "dict.items()"
      ],
      "execution_count": null,
      "outputs": [
        {
          "output_type": "execute_result",
          "data": {
            "text/plain": [
              "dict_items([('name', 'Mayank'), ('age', 23), ('location', 'Pune')])"
            ]
          },
          "metadata": {
            "tags": []
          },
          "execution_count": 45
        }
      ]
    },
    {
      "cell_type": "code",
      "metadata": {
        "colab": {
          "base_uri": "https://localhost:8080/"
        },
        "id": "Maz_mil4gb9B",
        "outputId": "ae5d4d45-2757-4a1b-8eca-e91c32486de8"
      },
      "source": [
        "dict={\"name\":\"Mayank\",\"age\":23,\"location\":\"Pune\"}\r\n",
        "dict.pop(\"location\")\r\n",
        "print(dict)"
      ],
      "execution_count": null,
      "outputs": [
        {
          "output_type": "stream",
          "text": [
            "{'name': 'Mayank', 'age': 23}\n"
          ],
          "name": "stdout"
        }
      ]
    },
    {
      "cell_type": "code",
      "metadata": {
        "id": "GryRSck2gybk"
      },
      "source": [
        "dict={\"name\":\"Mayank\",\"age\":23,\"location\":\"Pune\"}\r\n",
        "dict.setdefault(\"institute\",\"Bs anangpuria\")\r\n",
        "print(dict)\r\n"
      ],
      "execution_count": null,
      "outputs": []
    }
  ]
}